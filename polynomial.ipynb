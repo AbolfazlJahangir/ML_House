{
 "cells": [
  {
   "cell_type": "code",
   "execution_count": 98,
   "metadata": {},
   "outputs": [],
   "source": [
    "from sklearn.linear_model import LinearRegression\n",
    "from sklearn.preprocessing import PolynomialFeatures, MinMaxScaler\n",
    "import matplotlib.pyplot as plt\n",
    "import numpy as np\n",
    "import pandas as pd"
   ]
  },
  {
   "cell_type": "markdown",
   "metadata": {},
   "source": [
    "# Create DataFrame\n",
    "Clean data using IQR"
   ]
  },
  {
   "cell_type": "code",
   "execution_count": 99,
   "metadata": {},
   "outputs": [],
   "source": [
    "df = pd.read_csv(\"house.csv\")\n",
    "\n",
    "df[\"Area\"] = pd.to_numeric(df[\"Area\"], errors='coerce')\n",
    "\n",
    "df = df.dropna()\n",
    "\n",
    "# Throw up outlier data\n",
    "# \"Area\" column\n",
    "area_column = np.sort(np.array(df[\"Area\"]))\n",
    "area_median = np.median(area_column)\n",
    "area_q1, area_q3 = np.median(np.split(area_column, 2)[0]), np.median(np.split(area_column, 2)[1])\n",
    "area_IQR = area_q3 - area_q1\n",
    "area_upper, area_lower = area_q3 + (1.5 * area_IQR), area_q1 - (1.5 * area_IQR)\n",
    "df = df[df[\"Area\"] <= area_upper]\n",
    "df = df[df[\"Area\"] >= area_lower]\n",
    "\n",
    "# \"Price\" column\n",
    "price_column = np.sort(np.array(df[\"Price\"]))\n",
    "price_median = np.median(price_column)\n",
    "price_q1, price_q3 = np.median(np.split(price_column, 2)[0]), np.median(np.split(price_column, 2)[1])\n",
    "price_IQR = price_q3 - price_q1\n",
    "price_upper, price_lower = price_q3 + (1.5 * price_IQR), price_q1 - (1.5 * price_IQR)\n",
    "df = df[df[\"Price\"] <= price_upper]\n",
    "df = df[df[\"Price\"] >= price_lower]"
   ]
  },
  {
   "cell_type": "markdown",
   "metadata": {},
   "source": [
    "# Make numeric value (Address)\n",
    "Give a score to every address using the mean of price"
   ]
  },
  {
   "cell_type": "code",
   "execution_count": 100,
   "metadata": {},
   "outputs": [],
   "source": [
    "address_set = set(df[\"Address\"])\n",
    "address_ranking = {}\n",
    "for address in address_set:\n",
    "    address_ranking[address] = np.mean(df[df[\"Address\"] == address].Price)\n",
    "\n",
    "addresses = list(df[\"Address\"])\n",
    "\n",
    "for i in range(len(addresses)):\n",
    "    for key in address_ranking:\n",
    "        if key in addresses[i]:\n",
    "            addresses[i] = address_ranking[key]\n",
    "            break\n",
    "\n",
    "df = df.assign(Address=addresses)"
   ]
  },
  {
   "cell_type": "markdown",
   "metadata": {},
   "source": [
    "# Make numeric and preprocessing data\n",
    "Give binary value to True/False data and split train/test for model"
   ]
  },
  {
   "cell_type": "code",
   "execution_count": null,
   "metadata": {},
   "outputs": [],
   "source": [
    "df = df.dropna()\n",
    "\n",
    "numeric_columns = [\"Area\", \"Room\", \"Parking\", \"Warehouse\", \"Elevator\", \"Address\", \"Price\"]\n",
    "\n",
    "msk = np.random.rand(len(df)) < 0.7\n",
    "\n",
    "cdf = df[numeric_columns]\n",
    "\n",
    "cdf[\"Parking\"] = cdf[\"Parking\"].astype(int)\n",
    "cdf[\"Warehouse\"] = cdf[\"Warehouse\"].astype(int)\n",
    "cdf[\"Elevator\"] = cdf[\"Elevator\"].astype(int)\n",
    "\n",
    "scaler = MinMaxScaler()\n",
    "\n",
    "# Fit and transform the numeric columns\n",
    "cdf[numeric_columns] = scaler.fit_transform(cdf[numeric_columns])\n",
    "\n",
    "train = cdf[msk]\n",
    "test = cdf[~msk]\n",
    "\n",
    "x_train = np.asanyarray(train[[\"Area\", \"Room\", \"Parking\", \"Warehouse\", \"Elevator\", \"Address\"]])\n",
    "x_test = np.asanyarray(test[[\"Area\", \"Room\", \"Parking\", \"Warehouse\", \"Elevator\", \"Address\"]])\n",
    "\n",
    "y_train = np.asanyarray(train[[\"Price\"]])\n",
    "y_test = np.asanyarray(test[[\"Price\"]])"
   ]
  },
  {
   "cell_type": "markdown",
   "metadata": {},
   "source": [
    "The unnormalized value for plot"
   ]
  },
  {
   "cell_type": "code",
   "execution_count": 102,
   "metadata": {},
   "outputs": [],
   "source": [
    "test_area = np.array([])\n",
    "test_price = np.array([])\n",
    "\n",
    "for i in range(len(x_test)):\n",
    "    test_area = np.append(test_area, x_test[i][0])\n",
    "    test_price = np.append(test_price, y_test[i][0])\n",
    "\n",
    "min_area = df[\"Area\"].min()\n",
    "max_area = df[\"Area\"].max()\n",
    "\n",
    "min_price = df[\"Price\"].min()\n",
    "max_price = df[\"Price\"].max()\n",
    "\n",
    "unnormalized_area = test_area * (max_area - min_area) + min_area\n",
    "unnormalized_price = test_price * (max_price - min_price) + min_price"
   ]
  },
  {
   "cell_type": "markdown",
   "metadata": {},
   "source": [
    "# Create model\n",
    "Preparing the model(Polynomial-Model), fit and transform the data for using in polynomial model\n",
    "finally fit data"
   ]
  },
  {
   "cell_type": "code",
   "execution_count": null,
   "metadata": {},
   "outputs": [],
   "source": [
    "poly_features = PolynomialFeatures(degree=2)\n",
    "x_train_poly = poly_features.fit_transform(x_train)\n",
    "x_test_poly = poly_features.fit_transform(x_test)\n",
    "\n",
    "model = LinearRegression()\n",
    "model.fit(x_train_poly, y_train)"
   ]
  },
  {
   "cell_type": "markdown",
   "metadata": {},
   "source": [
    "Predict test data and create a scatter plot"
   ]
  },
  {
   "cell_type": "code",
   "execution_count": null,
   "metadata": {},
   "outputs": [],
   "source": [
    "predicted = model.predict(x_test_poly)\n",
    "\n",
    "plt.scatter(unnormalized_area, unnormalized_price , label=\"Original Data\", color=\"red\")\n",
    "plt.scatter(unnormalized_area, predicted * 10000000000, label=\"Fit\", color=\"green\")\n",
    "plt.xlabel(\"Area\")\n",
    "plt.ylabel(\"Price\")\n",
    "plt.legend()\n",
    "plt.show()"
   ]
  },
  {
   "cell_type": "markdown",
   "metadata": {},
   "source": [
    "# Model performance\n",
    "Mean_Absolute_Error / Mean_Squared_Error / R2_Score"
   ]
  },
  {
   "cell_type": "code",
   "execution_count": null,
   "metadata": {},
   "outputs": [],
   "source": [
    "from sklearn.metrics import r2_score\n",
    "\n",
    "MAE = np.mean(np.absolute(predicted - y_test))\n",
    "MSE = np.mean((predicted - y_test) ** 2)\n",
    "R2 = r2_score(y_test, predicted)\n",
    "\n",
    "print(f\"Mean_Absolute_Error: {MAE}\")\n",
    "print(f\"Mean_Squared_Error: {MSE}\")\n",
    "print(f\"R2_Score: {R2}\")"
   ]
  },
  {
   "cell_type": "markdown",
   "metadata": {},
   "source": [
    "Get input from the user for predict the sample price "
   ]
  },
  {
   "cell_type": "code",
   "execution_count": null,
   "metadata": {},
   "outputs": [],
   "source": [
    "while True:\n",
    "    try:\n",
    "        area = int(input(\"Area: \"))\n",
    "        break\n",
    "    except:\n",
    "        print(\"Invalid input!\")\n",
    "\n",
    "while True:\n",
    "    try:\n",
    "        room = int(input(\"Room: \"))\n",
    "        break\n",
    "    except:\n",
    "        print(\"Invalid input!\")\n",
    "\n",
    "while True:\n",
    "    try:\n",
    "        parking = int(input(\"Parking(yes(1), no(0)): \"))\n",
    "        if parking == 1 or parking == 0:\n",
    "            break\n",
    "    except:\n",
    "        print(\"Invalid input!\")\n",
    "\n",
    "while True:\n",
    "    try:\n",
    "        warehouse = int(input(\"Warehouse(yes(1), no(0)): \"))\n",
    "        if warehouse == 1 or warehouse == 0:\n",
    "            break\n",
    "    except:\n",
    "        print(\"Invalid input!\")\n",
    "\n",
    "while True:\n",
    "    try:\n",
    "        elevator = int(input(\"Elevator(yes(1), no(0)): \"))\n",
    "        if elevator == 1 or elevator == 0:\n",
    "            break\n",
    "    except:\n",
    "        print(\"Invalid input!\")\n",
    "\n",
    "while True:\n",
    "    try:\n",
    "        address = input(\"Address: \").capitalize()\n",
    "        break\n",
    "    except:\n",
    "        print(\"Invalid input!\")\n",
    "\n",
    "address = address_ranking.get(address, np.mean(df.Price))\n",
    "\n",
    "area = (area - min_area) / (max_area - min_area)\n",
    "room *= 0.2\n",
    "address = (address - min_price) / (max_price - min_price)\n",
    "\n",
    "user_input = [[area, room, parking, warehouse, elevator, address]]\n",
    "user_input_poly = poly_features.fit_transform(user_input)\n",
    "\n",
    "result = model.predict(user_input_poly) * (max_price - min_price) + min_price\n",
    "result = int(result[0][0])\n",
    "\n",
    "print(f\"Predicted price: {result}\")"
   ]
  }
 ],
 "metadata": {
  "kernelspec": {
   "display_name": "Python 3",
   "language": "python",
   "name": "python3"
  },
  "language_info": {
   "codemirror_mode": {
    "name": "ipython",
    "version": 3
   },
   "file_extension": ".py",
   "mimetype": "text/x-python",
   "name": "python",
   "nbconvert_exporter": "python",
   "pygments_lexer": "ipython3",
   "version": "3.11.6"
  }
 },
 "nbformat": 4,
 "nbformat_minor": 2
}
